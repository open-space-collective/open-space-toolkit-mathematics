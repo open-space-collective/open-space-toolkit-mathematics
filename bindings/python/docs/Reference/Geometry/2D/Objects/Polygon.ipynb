{
 "cells": [
  {
   "cell_type": "markdown",
   "metadata": {},
   "source": [
    "# Open Space Toolkit ▸ Mathematics ▸ Geometry ▸ 2D ▸ Object ▸ Polygon"
   ]
  },
  {
   "cell_type": "markdown",
   "metadata": {},
   "source": [
    "## Setup"
   ]
  },
  {
   "cell_type": "code",
   "execution_count": 1,
   "metadata": {},
   "outputs": [],
   "source": [
    "import ostk.mathematics as mathematics"
   ]
  },
  {
   "cell_type": "code",
   "execution_count": 2,
   "metadata": {},
   "outputs": [],
   "source": [
    "Point = mathematics.geometry.d2.object.Point\n",
    "PointSet = mathematics.geometry.d2.object.PointSet\n",
    "Polygon = mathematics.geometry.d2.object.Polygon\n",
    "Transformation = mathematics.geometry.d2.Transformation"
   ]
  },
  {
   "cell_type": "markdown",
   "metadata": {},
   "source": [
    "---"
   ]
  },
  {
   "cell_type": "markdown",
   "metadata": {},
   "source": [
    "## Polygon"
   ]
  },
  {
   "cell_type": "markdown",
   "metadata": {},
   "source": [
    "**Constructors**"
   ]
  },
  {
   "cell_type": "code",
   "execution_count": 3,
   "metadata": {},
   "outputs": [],
   "source": [
    "polygon = Polygon([Point(0.0, 0.0), Point(1.0, 0.0), Point(1.0, 1.0), Point(0.0, 1.0)])"
   ]
  },
  {
   "cell_type": "code",
   "execution_count": 5,
   "metadata": {},
   "outputs": [],
   "source": [
    "polygon = Polygon(\n",
    "    [Point(0.0, 0.0), Point(1.0, 0.0), Point(1.0, 1.0), Point(0.0, 1.0)],\n",
    "    [[Point(0.5, 0.5), Point(0.5, 0.6), Point(0.6, 0.5)]],\n",
    ")"
   ]
  },
  {
   "cell_type": "code",
   "execution_count": 6,
   "metadata": {},
   "outputs": [],
   "source": [
    "Polygon.undefined();"
   ]
  },
  {
   "cell_type": "markdown",
   "metadata": {},
   "source": [
    "**Operators**"
   ]
  },
  {
   "cell_type": "code",
   "execution_count": 7,
   "metadata": {},
   "outputs": [],
   "source": [
    "polygon == polygon\n",
    "polygon != polygon;"
   ]
  },
  {
   "cell_type": "markdown",
   "metadata": {},
   "source": [
    "**Methods**"
   ]
  },
  {
   "cell_type": "code",
   "execution_count": 9,
   "metadata": {},
   "outputs": [],
   "source": [
    "polygon.is_defined()\n",
    "polygon.intersects_polygon(polygon)\n",
    "polygon.contains_point(Point(0.0, 0.0))\n",
    "polygon.contains_point_set(PointSet([Point(0.0, 0.0)]))\n",
    "polygon.get_inner_ring_count()\n",
    "polygon.get_edge_count()\n",
    "polygon.get_vertex_count()\n",
    "polygon.get_outer_ring()\n",
    "polygon.get_inner_ring_at(0)\n",
    "polygon.get_edge_at(0)\n",
    "polygon.get_vertex_at(0)\n",
    "# polygon.get_edges() ;\n",
    "polygon.get_vertices()\n",
    "polygon.to_string()\n",
    "polygon.apply_transformation(Transformation.identity());"
   ]
  },
  {
   "cell_type": "markdown",
   "metadata": {},
   "source": [
    "---"
   ]
  }
 ],
 "metadata": {
  "kernelspec": {
   "display_name": "Python 3",
   "language": "python",
   "name": "python3"
  },
  "language_info": {
   "codemirror_mode": {
    "name": "ipython",
    "version": 3
   },
   "file_extension": ".py",
   "mimetype": "text/x-python",
   "name": "python",
   "nbconvert_exporter": "python",
   "pygments_lexer": "ipython3",
   "version": "3.6.8"
  }
 },
 "nbformat": 4,
 "nbformat_minor": 2
}
